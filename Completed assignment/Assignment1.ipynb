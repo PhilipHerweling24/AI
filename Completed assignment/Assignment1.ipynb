{
 "cells": [
  {
   "cell_type": "raw",
   "metadata": {},
   "source": [
    "Assignment 1 for Artificial Intelegence CMPU3051\n",
    "\n",
    "Author:\n",
    "Name:       Philip Herweling\n",
    "Student No: C18470774\n",
    "\n",
    "Description:\n",
    "This code Is for the first assinment in AI. I answered all four questions required and changed the cost function as asked. I have all four questions in seperate cells and have them clearly labeled."
   ]
  },
  {
   "cell_type": "code",
   "execution_count": 1,
   "metadata": {},
   "outputs": [],
   "source": [
    "import numpy as np\n",
    "import matplotlib.pyplot as plt\n",
    "import pandas as pd"
   ]
  },
  {
   "cell_type": "code",
   "execution_count": 2,
   "metadata": {},
   "outputs": [],
   "source": [
    "def sigm(z):\n",
    "    return  1.0/(1.0 + np.exp(-z))\n",
    "\n",
    "def sigm_deriv(z):\n",
    "    return sigm(z)*(1.0 - sigm(z))"
   ]
  },
  {
   "cell_type": "code",
   "execution_count": 3,
   "metadata": {},
   "outputs": [],
   "source": [
    "class XOR_MLP:\n",
    "    def __init__(self):\n",
    "        self.train_inputs = inputs\n",
    "        self.train_outputs = out\n",
    "          \n",
    "        np.random.seed(23)\n",
    "        # hidden layer of n neurons\n",
    "        self.w2 = np.random.randn(N,M)\n",
    "        self.b2 = np.random.randn(N,1)\n",
    "        \n",
    "        # output layer has o neurons\n",
    "        self.w3 = np.random.randn(O,N)\n",
    "        self.b3 = np.random.randn(O,1)\n",
    "        \n",
    "    def feedforward(self, xs):    \n",
    "        # here xs is a matrix where each column is an input vector\n",
    "        # w2.dot(xs) applies the weight matrix w2 to each input at once\n",
    "        a2s = sigm(self.w2.dot(xs) + self.b2)\n",
    "        a3s = sigm(self.w3.dot(a2s) + self.b3)            \n",
    "        return a3s\n",
    "\n",
    "    \n",
    "    def backprop(self, xs, ys):        \n",
    "        del_w2 = np.zeros(self.w2.shape, dtype=float)\n",
    "        del_b2 = np.zeros(self.b2.shape, dtype=float)\n",
    "        \n",
    "        del_w3 = np.zeros(self.w3.shape, dtype=float)\n",
    "        del_b3 = np.zeros(self.b3.shape, dtype=float)\n",
    "        cost = 0.0\n",
    "        \n",
    "        for x,y in zip(xs,ys):\n",
    "            a1 = x.reshape(M,1)              \n",
    "            z2 = self.w2.dot(a1) + self.b2   \n",
    "            a2 = sigm(z2)                   \n",
    "            \n",
    "            z3 = self.w3.dot(a2) + self.b3  \n",
    "            a3 = sigm(z3)          \n",
    "            \n",
    "            y = y.reshape(O,1)\n",
    "            \n",
    "            delta3 = (a3-y) * sigm_deriv(z3)                   \n",
    "           \n",
    "            delta2 = sigm_deriv(z2) * (self.w3.T.dot(delta3))  \n",
    "                                                               \n",
    "            del_b3 += delta3\n",
    "            del_w3 += delta3.dot(a2.T)  \n",
    "            \n",
    "            del_b2 += delta2\n",
    "            del_w2 += delta2.dot(a1.T) \n",
    "        \n",
    "           \n",
    "            cost += ((a3 - y)**2).sum() \n",
    "        \n",
    "            #Cross-entropy Cost Function\n",
    "            #cost += (y*np.log(a3) - (1-y) * np.log(1-a3)).sum()\n",
    "            \n",
    "        n = len(ys)  # number of training vectors           \n",
    "        # get the average change per training input  \n",
    "        return del_b2/n, del_w2/n, del_b3/n, del_w3/n, cost/n\n",
    "        \n",
    "    def train(self, epochs, eta):\n",
    "        xs = self.train_inputs\n",
    "        ys = self.train_outputs\n",
    "        cost = np.zeros((epochs,))\n",
    "        \n",
    "        for e in range(epochs):\n",
    "            d_b2,d_w2,d_b3,d_w3, cost[e] = self.backprop(xs,ys)\n",
    "                \n",
    "            self.b2 -= eta * d_b2\n",
    "            self.w2 -= eta * d_w2\n",
    "            self.b3 -= eta * d_b3\n",
    "            self.w3 -= eta * d_w3\n",
    "        plt.plot(cost)\n",
    "        return cost\n",
    "                \n",
    "                \n",
    "            \n",
    "    "
   ]
  },
  {
   "cell_type": "code",
   "execution_count": 4,
   "metadata": {
    "scrolled": true
   },
   "outputs": [
    {
     "name": "stdout",
     "output_type": "stream",
     "text": [
      "[[0.4321933  0.52195082 0.43163385 0.51250656]]\n",
      "[[0.01811498 0.96424549 0.96500208 0.0451698 ]]\n"
     ]
    },
    {
     "data": {
      "text/plain": [
       "[<matplotlib.lines.Line2D at 0x1fee4f48eb0>]"
      ]
     },
     "execution_count": 4,
     "metadata": {},
     "output_type": "execute_result"
    },
    {
     "data": {
      "image/png": "[encoded data removed]",
      "text/plain": [
       "<Figure size 432x288 with 1 Axes>"
      ]
     },
     "metadata": {
      "needs_background": "light"
     },
     "output_type": "display_data"
    },
    {
     "data": {
      "image/png": "[encoded data removed]",
      "text/plain": [
       "<Figure size 720x1080 with 1 Axes>"
      ]
     },
     "metadata": {
      "needs_background": "light"
     },
     "output_type": "display_data"
    }
   ],
   "source": [
    "#Problem1  \n",
    "\n",
    "#Initialsing the inputs array\n",
    "inputs = np.array([[0,0,1], [0,1,1], [1,0,1], [1,1,1]])\n",
    "\n",
    "#Initialsing the Outputs array\n",
    "out = np.array([0,1,1,0])\n",
    "\n",
    "N = 4 #Number of neurons in the hidden layer\n",
    "M = 3 #Number of Inputs\n",
    "O = 1 #Number of Outputs\n",
    "\n",
    "xor = XOR_MLP()\n",
    "xs = xor.train_inputs.T\n",
    "\n",
    "print(xor.feedforward(xs))\n",
    "\n",
    "epochs = 1800\n",
    "c = xor.train(epochs, 3.0)\n",
    "\n",
    "result = xor.feedforward(xs)\n",
    "print(result)\n",
    "\n",
    "x_axis = np.linspace(1, epochs, epochs, dtype=int)\n",
    "fig, axs = plt.subplots(1,1,figsize=(10,15))\n",
    "plt.subplot(3,1,1)\n",
    "plt.plot(x_axis, c)\n",
    " "
   ]
  },
  {
   "cell_type": "code",
   "execution_count": 5,
   "metadata": {},
   "outputs": [
    {
     "name": "stdout",
     "output_type": "stream",
     "text": [
      "[[0.65996267 0.57436115 0.56836673 0.54440382 0.66146227 0.52241302\n",
      "  0.61336377]\n",
      " [0.56899739 0.54110372 0.51610062 0.50668867 0.57061445 0.51577405\n",
      "  0.54295979]]\n",
      "[[0.98835547 0.10028716 0.99385804 0.99364739 0.99947016 0.91870885\n",
      "  0.91908079]\n",
      " [0.07350164 0.99644017 0.5295046  0.53814725 0.00390175 0.89834806\n",
      "  0.8841372 ]]\n"
     ]
    },
    {
     "data": {
      "text/plain": [
       "[<matplotlib.lines.Line2D at 0x1fee50c62e0>]"
      ]
     },
     "execution_count": 5,
     "metadata": {},
     "output_type": "execute_result"
    },
    {
     "data": {
      "image/png": "[encoded data removed]",
      "text/plain": [
       "<Figure size 432x288 with 1 Axes>"
      ]
     },
     "metadata": {
      "needs_background": "light"
     },
     "output_type": "display_data"
    },
    {
     "data": {
      "image/png": "[encoded data removed]",
      "text/plain": [
       "<Figure size 720x1080 with 1 Axes>"
      ]
     },
     "metadata": {
      "needs_background": "light"
     },
     "output_type": "display_data"
    }
   ],
   "source": [
    "#Problem2\n",
    "\n",
    "#Initialsing the inputs array\n",
    "inputs = np.array([[1,1,0], [1,-1,-1], [-1,1,1], [-1,-1,1], [0,1,-1], [0,-1,-1], [1,1,1]])\n",
    "\n",
    "#Initialsing the Outputs array\n",
    "out = np.array([[1,0],[0,1],[1,1],[1,0],[1,0],[1,1],[1,1]])\n",
    "\n",
    "N = 2 #Number of neurons in the hidden layer\n",
    "M = 3 #Number of Inputs\n",
    "O = 2 #Number of Outputs\n",
    "\n",
    "xor = XOR_MLP()\n",
    "xs = xor.train_inputs.T\n",
    "\n",
    "print(xor.feedforward(xs))\n",
    "\n",
    "epochs = 3000\n",
    "c = xor.train(epochs, 1.0)\n",
    "\n",
    "result = xor.feedforward(xs)\n",
    "print(result)\n",
    "\n",
    "x_axis = np.linspace(1, epochs, epochs, dtype=int)\n",
    "fig, axs = plt.subplots(1,1,figsize=(10,15))\n",
    "plt.subplot(3,1,1)\n",
    "plt.plot(x_axis, c)"
   ]
  },
  {
   "cell_type": "code",
   "execution_count": 6,
   "metadata": {},
   "outputs": [
    {
     "name": "stdout",
     "output_type": "stream",
     "text": [
      "[[0.85627041 0.78520541 0.78418707 0.8452919  0.74035532 0.76052699\n",
      "  0.75834865 0.72958842 0.74058934 0.75109237 0.74259373]\n",
      " [0.85415238 0.87709494 0.88035019 0.8497986  0.88565623 0.84252617\n",
      "  0.87315745 0.88167293 0.87818327 0.88120657 0.85518651]\n",
      " [0.22210963 0.41251964 0.56278615 0.26048453 0.529223   0.27462797\n",
      "  0.53750844 0.60366794 0.56953569 0.69984362 0.33981559]]\n",
      "[[0.00124433 0.0039781  0.06832462 0.00492444 0.01447118 0.11808819\n",
      "  0.21628469 0.84085926 0.87773508 0.91741475 0.15038758]\n",
      " [0.02859661 0.08909276 0.79367923 0.13293673 0.10590287 0.81730181\n",
      "  0.79594318 0.1690973  0.13130279 0.08758467 0.86215362]\n",
      " [0.98830278 0.94896684 0.18440857 0.90699627 0.86270256 0.0870261\n",
      "  0.05824967 0.02195056 0.02169139 0.01784954 0.05831241]]\n",
      "\n",
      "Result for Female without car ownership, willing to pay expensive travel cost and having medium income level\n",
      "\n",
      "0.15038758495526638  Bus \n",
      "0.8621536197497998   Train \n",
      "0.058312414485222765  Car \n"
     ]
    },
    {
     "data": {
      "image/png": "[encoded data removed]",
      "text/plain": [
       "<Figure size 432x288 with 1 Axes>"
      ]
     },
     "metadata": {
      "needs_background": "light"
     },
     "output_type": "display_data"
    },
    {
     "data": {
      "image/png": "[encoded data removed]",
      "text/plain": [
       "<Figure size 720x1080 with 1 Axes>"
      ]
     },
     "metadata": {
      "needs_background": "light"
     },
     "output_type": "display_data"
    }
   ],
   "source": [
    "#Problem 3  \n",
    "#Initialsing the inputs array\n",
    "inputs = np.array([[1,0,0,0], [1,1,0,1], [0,1,0,1], [0,0,0,0], \n",
    "                   [1,1,0,2], [1,0,2,1], [0,1,1,1], [0,1,2,2], \n",
    "                   [1,2,2,1], [0,2,2,2], [0,0,2,1]])\n",
    "\n",
    "#Initialsing the outputs array\n",
    "out = np.array([[0,0,1],[0,0,1],[0,1,0],[0,0,1],[0,0,1],[0,1,0],[0,1,0],[1,0,0],[1,0,0],[1,0,0]])\n",
    "\n",
    "N = 4 #Number of neurons in the hidden layer\n",
    "M = 4 #Number of Inputs\n",
    "O = 3 #Number of Outputs\n",
    "\n",
    "xor = XOR_MLP()\n",
    "xs = xor.train_inputs.T\n",
    "\n",
    "print(xor.feedforward(xs))\n",
    "\n",
    "epochs = 800\n",
    "c = xor.train(epochs, 1.0)\n",
    "\n",
    "result = xor.feedforward(xs)\n",
    "print(result)\n",
    "\n",
    "x_axis = np.linspace(1, epochs, epochs, dtype=int)\n",
    "fig, axs = plt.subplots(1,1,figsize=(10,15))\n",
    "plt.subplot(3,1,1)\n",
    "plt.plot(x_axis, c)\n",
    "\n",
    "#Trained results for Female without car ownership, willing to pay expensive travel cost and having medium income level.\n",
    "#(0,0,1) = bus\n",
    "#(0,1,0) = train\n",
    "#(1,0,0) = car\n",
    "\n",
    "#initialsiing variables\n",
    "count = 0\n",
    "count2 = 0\n",
    "\n",
    "print()\n",
    "print(\"Result for Female without car ownership, willing to pay expensive travel cost and having medium income level\")\n",
    "print()\n",
    "\n",
    "#loops through result and stores the 3 trained outputs in positions 10 in the array\n",
    "for i in range(len(result)):\n",
    "    for j in range(len(result[i])):\n",
    "        count += 1\n",
    "        if(count == 11):\n",
    "            if(count2 == 0):\n",
    "                count2 += 1\n",
    "                print(result[i][j],\" Bus\", end=' ')\n",
    "            elif(count2 == 1):\n",
    "                count2 += 1\n",
    "                print(result[i][j],\"  Train\", end=' ')\n",
    "            else:\n",
    "                print(result[i][j],\" Car\", end=' ')\n",
    "            \n",
    "    count = 0    \n",
    "    print()\n",
    "    \n",
    "#Exporting the result of feedforward \n",
    "df = pd.DataFrame(result)\n",
    "df.to_csv('transport.csv', sep=',', encoding='utf-8', index=False)"
   ]
  },
  {
   "cell_type": "code",
   "execution_count": 7,
   "metadata": {},
   "outputs": [
    {
     "name": "stdout",
     "output_type": "stream",
     "text": [
      "[[0.80649701 0.81644522 0.80860866 0.8004953  0.80043459 0.77410423\n",
      "  0.78801767 0.80239875 0.80533169 0.81600676 0.80462625 0.79215267\n",
      "  0.82015762 0.81892296 0.82084713 0.77761728 0.79287547 0.79928749\n",
      "  0.79447958 0.78523881 0.80626624 0.78092016 0.80881575 0.77904921\n",
      "  0.77970276 0.81157756 0.78360441 0.80512383 0.81265712 0.79595895\n",
      "  0.80235893 0.80051408 0.79433139 0.79709397 0.81600676 0.82139332\n",
      "  0.82261974 0.81600676 0.80629167 0.80540435 0.80082164 0.82349563\n",
      "  0.80022072 0.76553536 0.76014914 0.80684576 0.78796352 0.8014474\n",
      "  0.80158728 0.80991993 0.71216285 0.69186668 0.70480541 0.72738886\n",
      "  0.71198562 0.70081416 0.67818638 0.73444007 0.72203142 0.6952398\n",
      "  0.75409621 0.69140025 0.76672955 0.69907843 0.70808006 0.71273974\n",
      "  0.68048341 0.73333364 0.73494942 0.73451663 0.66545251 0.72148272\n",
      "  0.71576524 0.71533171 0.72077482 0.71450708 0.72436898 0.69131822\n",
      "  0.69391819 0.7467231  0.73823968 0.74634805 0.72462452 0.68938936\n",
      "  0.67668171 0.67139087 0.70191208 0.7469435  0.69527529 0.71717736\n",
      "  0.71167101 0.69605323 0.72791871 0.74275784 0.70714489 0.7018013\n",
      "  0.70079042 0.71423138 0.73594703 0.70701067 0.64555737 0.67181679\n",
      "  0.67208077 0.67428076 0.65932557 0.67561527 0.67530905 0.68955013\n",
      "  0.69747034 0.64711585 0.66575954 0.68241999 0.66998685 0.67331905\n",
      "  0.65403029 0.65421974 0.67580884 0.65204636 0.68092348 0.72000129\n",
      "  0.65792837 0.66391327 0.68936972 0.68976748 0.65854401 0.67858794\n",
      "  0.68439068 0.67375436 0.667776   0.6993656  0.69414844 0.66181717\n",
      "  0.66431284 0.69815978 0.70090784 0.67498465 0.64710386 0.67061113\n",
      "  0.67282747 0.66976998 0.65546189 0.66562534 0.67181679 0.65537352\n",
      "  0.64904433 0.66391786 0.6920203  0.67082833 0.64894433 0.66835493]\n",
      " [0.88630635 0.87473546 0.88316568 0.87712748 0.88935565 0.88905071\n",
      "  0.88695342 0.88231535 0.87514904 0.87519254 0.88747015 0.88174627\n",
      "  0.87549782 0.88482691 0.89903987 0.90171949 0.89607239 0.88628035\n",
      "  0.88412373 0.89173139 0.87557673 0.88953605 0.8993729  0.87665814\n",
      "  0.87679756 0.86972731 0.88108781 0.88362369 0.88322365 0.87719182\n",
      "  0.87377325 0.8797737  0.89806457 0.90070267 0.87519254 0.88385673\n",
      "  0.88644521 0.87519254 0.8798134  0.88167939 0.8888731  0.86126245\n",
      "  0.88489904 0.88478177 0.88598058 0.87529104 0.88980488 0.88170594\n",
      "  0.88806519 0.88183302 0.86741311 0.87719206 0.87051842 0.85977104\n",
      "  0.8671376  0.8725888  0.88287158 0.85943565 0.86222831 0.87629458\n",
      "  0.84616141 0.8777124  0.83687333 0.87322552 0.87189409 0.86759543\n",
      "  0.88189249 0.85732947 0.8544565  0.85684634 0.88791467 0.8638355\n",
      "  0.8644624  0.86522736 0.86355323 0.86657271 0.86050222 0.87656945\n",
      "  0.87590992 0.8526033  0.854949   0.8510078  0.86242794 0.87699326\n",
      "  0.88350947 0.88611672 0.87217463 0.84790125 0.8763171  0.86537189\n",
      "  0.86727769 0.8748973  0.86017333 0.85470504 0.8701001  0.87314255\n",
      "  0.87340223 0.86680683 0.86077176 0.87058727 0.89501868 0.88468395\n",
      "  0.88442432 0.88337994 0.88960205 0.88269757 0.88359526 0.876463\n",
      "  0.87282222 0.89448178 0.88750985 0.88009409 0.88546882 0.88405896\n",
      "  0.89203241 0.8919768  0.88290031 0.89238239 0.88032088 0.86181193\n",
      "  0.89033146 0.88818057 0.87651449 0.87714116 0.89005725 0.8815776\n",
      "  0.8796826  0.88424863 0.88619927 0.87216065 0.8745074  0.88866371\n",
      "  0.88764371 0.87306423 0.87091116 0.88324439 0.89467218 0.88510366\n",
      "  0.8847355  0.88566124 0.89132    0.88754    0.88468395 0.89122735\n",
      "  0.89382478 0.88813043 0.87593174 0.88526626 0.89408585 0.8862667 ]\n",
      " [0.30005992 0.26752189 0.29493757 0.29017966 0.31686275 0.3355091\n",
      "  0.33004805 0.29571448 0.28326996 0.26948879 0.30137642 0.30740391\n",
      "  0.2668312  0.29426314 0.30938976 0.37686639 0.33817155 0.30655269\n",
      "  0.29937401 0.339779   0.27482553 0.33526721 0.35351294 0.30006595\n",
      "  0.30665356 0.26269594 0.30879081 0.29383898 0.2854372  0.2935735\n",
      "  0.27931779 0.28650772 0.3550904  0.35211754 0.26948879 0.27968354\n",
      "  0.27982958 0.26948879 0.29310491 0.29017556 0.31355705 0.24199567\n",
      "  0.3143115  0.33424073 0.34530356 0.27735601 0.33133354 0.30036932\n",
      "  0.30734572 0.28703093 0.31040425 0.33665922 0.31872344 0.29380864\n",
      "  0.31039685 0.32651496 0.35378201 0.29221357 0.2986838  0.33709967\n",
      "  0.26424004 0.33895123 0.24645952 0.3272186  0.32239141 0.31061108\n",
      "  0.35323172 0.28799167 0.28199555 0.28662731 0.37094412 0.30161427\n",
      "  0.30515923 0.3074529  0.30125116 0.30832603 0.29489224 0.33485298\n",
      "  0.33407166 0.27471747 0.28232642 0.27336807 0.2987425  0.33803225\n",
      "  0.35954283 0.36554236 0.32288276 0.26817634 0.33643019 0.30706349\n",
      "  0.31340739 0.33149793 0.2939097  0.28085264 0.31937733 0.32755814\n",
      "  0.32793898 0.3095768  0.29255114 0.3200421  0.39286405 0.35994392\n",
      "  0.35697976 0.35591539 0.37366189 0.35231396 0.36032844 0.33579802\n",
      "  0.32637867 0.38841463 0.36694811 0.34525122 0.360057   0.35767056\n",
      "  0.38260154 0.38143968 0.35379748 0.38163815 0.34560043 0.29996596\n",
      "  0.37489577 0.37148119 0.33556028 0.33678838 0.37503348 0.34942896\n",
      "  0.34395813 0.35800183 0.36313851 0.32414185 0.32984869 0.36946864\n",
      "  0.36731526 0.32700268 0.32386655 0.35270705 0.39207986 0.36071022\n",
      "  0.359727   0.36038642 0.37817265 0.36559877 0.35994392 0.37821192\n",
      "  0.38680222 0.36777058 0.33346915 0.35989708 0.39071428 0.3653136 ]]\n",
      "[[0.95500863 0.94360584 0.95068579 0.94804295 0.95784726 0.9541205\n",
      "  0.95180732 0.9534713  0.94384741 0.95105238 0.95736868 0.95434892\n",
      "  0.94932324 0.95279586 0.95918123 0.96184874 0.95370127 0.95094914\n",
      "  0.95407601 0.95784229 0.95057961 0.95147723 0.95955392 0.9302027\n",
      "  0.95086208 0.94216003 0.94306882 0.95443113 0.95190805 0.94961523\n",
      "  0.94627682 0.94052145 0.96780271 0.9651968  0.95105238 0.94798862\n",
      "  0.9514186  0.95105238 0.94742782 0.95278703 0.95158049 0.9132091\n",
      "  0.95273767 0.932503   0.9508831  0.93853075 0.96121146 0.9512489\n",
      "  0.95805531 0.95100824 0.06142587 0.06005726 0.05327197 0.04132168\n",
      "  0.04564642 0.0535703  0.05604147 0.0803958  0.05946041 0.05185535\n",
      "  0.05580451 0.05615921 0.05837127 0.05054159 0.07079625 0.06054106\n",
      "  0.04702    0.07892273 0.02462902 0.06502188 0.03233805 0.06117136\n",
      "  0.02596722 0.06035064 0.06156418 0.05810958 0.04889087 0.0365045\n",
      "  0.04782713 0.08577639 0.06219369 0.07108246 0.06578161 0.02248877\n",
      "  0.0435072  0.06127935 0.05491371 0.04019783 0.07036785 0.0498846\n",
      "  0.05085593 0.05742409 0.06098913 0.07537573 0.05531082 0.07695641\n",
      "  0.0648387  0.06270958 0.09042581 0.06176097 0.01425393 0.01690104\n",
      "  0.01545112 0.01906767 0.01498944 0.01468421 0.01921093 0.01735958\n",
      "  0.01518576 0.0149063  0.02469209 0.01650508 0.01646049 0.01480538\n",
      "  0.01340301 0.01576143 0.0209957  0.01890665 0.01207165 0.01768\n",
      "  0.01515967 0.01677854 0.01420172 0.02119926 0.01821548 0.02270845\n",
      "  0.02427156 0.02646809 0.01487967 0.02782937 0.01555087 0.02997229\n",
      "  0.01417096 0.03125669 0.02320844 0.013521   0.01525199 0.02224139\n",
      "  0.02742791 0.01881022 0.01394175 0.01839843 0.01690104 0.01488503\n",
      "  0.01398246 0.01530729 0.01562472 0.01930619 0.01655635 0.02210975]\n",
      " [0.08108559 0.10062856 0.08591846 0.09208949 0.07488132 0.0622453\n",
      "  0.07061009 0.08426409 0.09729423 0.10464224 0.07895766 0.08206304\n",
      "  0.10636497 0.09285603 0.07562567 0.05342621 0.05994267 0.07450403\n",
      "  0.07503011 0.06458146 0.09453282 0.06279566 0.0670364  0.0775177\n",
      "  0.09179046 0.10628561 0.07390272 0.08366636 0.08782623 0.09074898\n",
      "  0.0978067  0.07834298 0.06668351 0.06339003 0.10464224 0.09185985\n",
      "  0.08998973 0.10464224 0.08985948 0.08628131 0.07219269 0.11693554\n",
      "  0.08022765 0.06175396 0.06790421 0.09169675 0.07021418 0.08510039\n",
      "  0.07692848 0.08819098 0.91022335 0.87620126 0.88086016 0.80629303\n",
      "  0.85808031 0.77671498 0.82427078 0.91311453 0.91212767 0.7945089\n",
      "  0.90261204 0.85540715 0.93926443 0.78817953 0.89335729 0.90788604\n",
      "  0.66117532 0.92825832 0.59528949 0.91706529 0.39926236 0.91112879\n",
      "  0.45897742 0.86179689 0.91389398 0.90691627 0.89274426 0.68706225\n",
      "  0.78676049 0.92394022 0.91598192 0.92974841 0.91351753 0.18973259\n",
      "  0.54618406 0.83167729 0.88235431 0.87551315 0.87761248 0.84562541\n",
      "  0.75455852 0.84037792 0.91082222 0.91870463 0.84015254 0.89349589\n",
      "  0.87316818 0.9042746  0.89208271 0.88080135 0.0601192  0.09455051\n",
      "  0.09945312 0.10684266 0.07291061 0.09083583 0.10253512 0.12475003\n",
      "  0.12200379 0.07331229 0.29898256 0.12279561 0.11822433 0.08547131\n",
      "  0.06446022 0.08905076 0.15350724 0.09524046 0.09248904 0.19820539\n",
      "  0.08590694 0.08849867 0.10757369 0.27072142 0.10475033 0.19506533\n",
      "  0.33639572 0.30799007 0.08125701 0.39628077 0.13520884 0.36137705\n",
      "  0.07540301 0.44342428 0.1570782  0.09994104 0.06855571 0.15074856\n",
      "  0.3327823  0.1801197  0.07256543 0.21551288 0.09455051 0.07276536\n",
      "  0.06734475 0.11383739 0.14638419 0.16923488 0.08135471 0.14555056]\n",
      " [0.00155517 0.00112744 0.00144328 0.00147285 0.0017885  0.00249573\n",
      "  0.00209726 0.00153273 0.00135069 0.00110497 0.00161916 0.00175515\n",
      "  0.00105033 0.00126793 0.00164836 0.00288933 0.00232887 0.00175881\n",
      "  0.00177405 0.00228432 0.00129527 0.00238105 0.00203097 0.0021225\n",
      "  0.00196709 0.00112786 0.00204097 0.00150482 0.00135012 0.00156496\n",
      "  0.00135781 0.00159587 0.00220545 0.00227634 0.00110497 0.00121372\n",
      "  0.0012441  0.00110497 0.00142651 0.00145243 0.00181605 0.00097112\n",
      "  0.00169715 0.00287221 0.00285287 0.00134455 0.00208527 0.0015605\n",
      "  0.00170498 0.00137292 0.05886487 0.09163176 0.08380197 0.13512587\n",
      "  0.09867796 0.18267559 0.14434237 0.04262859 0.05575197 0.16322279\n",
      "  0.0514465  0.10886338 0.02932229 0.17046172 0.06380787 0.05912089\n",
      "  0.31159011 0.04193861 0.32233525 0.04791654 0.60547274 0.05315242\n",
      "  0.4911615  0.099998   0.05336235 0.05968911 0.06884705 0.26710032\n",
      "  0.17185145 0.02991183 0.04721514 0.03534579 0.05107576 0.81973967\n",
      "  0.44219341 0.1404543  0.0832235  0.0748043  0.09051209 0.10758168\n",
      "  0.19843371 0.1237566  0.05364309 0.03746099 0.11860042 0.07647347\n",
      "  0.09282604 0.06267951 0.03555928 0.08322092 0.95430219 0.92026679\n",
      "  0.91338151 0.90914488 0.94153303 0.92026445 0.91402012 0.8839153\n",
      "  0.88181943 0.94241886 0.70923907 0.88774107 0.89569105 0.92711703\n",
      "  0.94909983 0.92745669 0.86213882 0.92392349 0.91319712 0.78832061\n",
      "  0.92935862 0.92759374 0.89809518 0.72345219 0.91345338 0.81760049\n",
      "  0.65482372 0.69802005 0.93213204 0.57963629 0.8683028  0.64655025\n",
      "  0.93779127 0.53148169 0.85241828 0.90976371 0.94715426 0.86797908\n",
      "  0.67134624 0.83222937 0.94156885 0.79355804 0.92026679 0.94206287\n",
      "  0.94720597 0.90038084 0.85728163 0.8446903  0.93603271 0.8740905 ]]\n"
     ]
    },
    {
     "data": {
      "image/png": "[encoded data removed]",
      "text/plain": [
       "<Figure size 432x288 with 1 Axes>"
      ]
     },
     "metadata": {
      "needs_background": "light"
     },
     "output_type": "display_data"
    },
    {
     "data": {
      "image/png": "[encoded data removed]",
      "text/plain": [
       "<Figure size 720x1080 with 1 Axes>"
      ]
     },
     "metadata": {
      "needs_background": "light"
     },
     "output_type": "display_data"
    }
   ],
   "source": [
    "#Problem 4\n",
    "\n",
    "#Reading in the first four columns of the iris.csv file into iris_df1\n",
    "iris_df1 = pd.read_csv('iris_data.csv', header = None, usecols=[0,1,2,3])\n",
    "\n",
    "#initialising inputs\n",
    "inputs = iris_df1.to_numpy()\n",
    "\n",
    "#Reading in columns 4,5 and 6 from the iris.csv file into iris_df2\n",
    "iris_df2 = pd.read_csv('iris_data.csv', header = None, usecols=[4,5,6])\n",
    "\n",
    "#initialising out\n",
    "out = iris_df2.to_numpy()\n",
    "\n",
    "N = 4 #Number of neurons in the hidden layer\n",
    "M = 4 #Number of Inputs\n",
    "O = 3 #Number of outputs\n",
    "\n",
    "xor = XOR_MLP()\n",
    "xs = xor.train_inputs.T\n",
    "\n",
    "print(xor.feedforward(xs))\n",
    "\n",
    "epochs = 1930\n",
    "c = xor.train(epochs, 0.5)\n",
    "\n",
    "result = xor.feedforward(xs)\n",
    "print(result)\n",
    "\n",
    "x_axis = np.linspace(1, epochs, epochs, dtype=int)\n",
    "fig, axs = plt.subplots(1,1,figsize=(10,15))\n",
    "plt.subplot(3,1,1)\n",
    "plt.plot(x_axis, c)\n",
    "\n",
    "#Exporting the result of feedforward \n",
    "df = pd.DataFrame(xor.feedforward(xs))\n",
    "df.to_csv('irisresult.csv', sep=',', encoding='utf-8', index=False)"
   ]
  },
  {
   "cell_type": "code",
   "execution_count": null,
   "metadata": {},
   "outputs": [],
   "source": []
  }
 ],
 "metadata": {
  "kernelspec": {
   "display_name": "Python 3",
   "language": "python",
   "name": "python3"
  },
  "language_info": {
   "codemirror_mode": {
    "name": "ipython",
    "version": 3
   },
   "file_extension": ".py",
   "mimetype": "text/x-python",
   "name": "python",
   "nbconvert_exporter": "python",
   "pygments_lexer": "ipython3",
   "version": "3.8.5"
  }
 },
 "nbformat": 4,
 "nbformat_minor": 4
}
