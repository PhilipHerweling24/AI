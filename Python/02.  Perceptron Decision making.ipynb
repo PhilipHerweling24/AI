{
 "cells": [
  {
   "cell_type": "code",
   "execution_count": null,
   "metadata": {},
   "outputs": [],
   "source": [
    "# initial weights for a decision perceptron and sample inputs\n",
    "import numpy as np\n",
    "w = np.array([6,2,2])\n",
    "i1 = np.array([1,0,0])\n",
    "i2 = np.array([0,1,1])\n",
    "\n",
    "# dot product of 2 vectors\n",
    "w.dot(i1)"
   ]
  },
  {
   "cell_type": "code",
   "execution_count": null,
   "metadata": {},
   "outputs": [],
   "source": [
    "w.dot(i2)"
   ]
  },
  {
   "cell_type": "code",
   "execution_count": null,
   "metadata": {},
   "outputs": [],
   "source": [
    "ins = np.array([i1, i2])\n",
    "print(ins)"
   ]
  },
  {
   "cell_type": "code",
   "execution_count": null,
   "metadata": {},
   "outputs": [],
   "source": [
    "w.dot(ins)"
   ]
  },
  {
   "cell_type": "code",
   "execution_count": null,
   "metadata": {},
   "outputs": [],
   "source": [
    "ins = ins.T\n",
    "ins"
   ]
  },
  {
   "cell_type": "code",
   "execution_count": null,
   "metadata": {},
   "outputs": [],
   "source": [
    "w.dot(ins)"
   ]
  },
  {
   "cell_type": "code",
   "execution_count": null,
   "metadata": {},
   "outputs": [],
   "source": [
    "# code for single decision perceptron\n",
    "# go to cheese festival or not\n",
    "# 3 variable input: weather good, friend coming too, public transport\n",
    "import numpy as np\n",
    "\n",
    "def decide(weights, input, threshold):\n",
    "    if weights.dot(input) > threshold:\n",
    "        return 1\n",
    "    else:\n",
    "        return 0\n"
   ]
  },
  {
   "cell_type": "code",
   "execution_count": null,
   "metadata": {},
   "outputs": [],
   "source": [
    "# with weights w, perceptron favours good weather above all in deciding\n",
    "decide(w, i1, 5)"
   ]
  },
  {
   "cell_type": "code",
   "execution_count": null,
   "metadata": {},
   "outputs": [],
   "source": [
    "# with poor weather, feven with riend coimg and public transport not enough to go\n",
    "decide(w, i2, 5)"
   ]
  },
  {
   "cell_type": "code",
   "execution_count": null,
   "metadata": {},
   "outputs": [],
   "source": [
    "# if you change threshold to 3 instead of 5, then with poor weather, friend coming and \n",
    "# public transport are enough to decide to go\n",
    "decide(w, i2, 3)"
   ]
  },
  {
   "cell_type": "code",
   "execution_count": null,
   "metadata": {},
   "outputs": [],
   "source": [
    "# redfine decide function to use bias instead of threshold, i.e. instead of \n",
    "# weights.dot(input) - threshold > 0  use\n",
    "# weights.dot(input) + bias >  0\n",
    "\n",
    "def decide1(weights, bias, input):\n",
    "    if weights.dot(input) + bias > 0:\n",
    "        return 1\n",
    "    else:\n",
    "        return 0\n"
   ]
  },
  {
   "cell_type": "code",
   "execution_count": null,
   "metadata": {},
   "outputs": [],
   "source": [
    "decide1(w, -5, i1), decide1(w, -5, i2)"
   ]
  },
  {
   "cell_type": "markdown",
   "metadata": {},
   "source": [
    "Exercise: Write a function nand(inputs) for the 2 input perceptron that implements logical NAND with weights -2 and -2 and bias 3. Supply the 4 inputs all together as a 4 by 2 array. Should return 4 corresponding ouputs as a vector"
   ]
  },
  {
   "cell_type": "code",
   "execution_count": null,
   "metadata": {},
   "outputs": [],
   "source": [
    "inputs = np.array([[0,0],[0,1], [1,0], [1,1]])\n",
    "print(inputs)"
   ]
  },
  {
   "cell_type": "code",
   "execution_count": null,
   "metadata": {},
   "outputs": [],
   "source": [
    "# complete the code and run it\n",
    "\n",
    "def nand(inputs):  \n",
    "    "
   ]
  },
  {
   "cell_type": "code",
   "execution_count": null,
   "metadata": {},
   "outputs": [],
   "source": [
    "# Exercise: sigmoid function exercises\n",
    "# write code for this activation function and test it\n",
    "def sigmoid(z):\n"
   ]
  },
  {
   "cell_type": "code",
   "execution_count": null,
   "metadata": {},
   "outputs": [],
   "source": [
    "# Exercise: Matplotlib\n",
    "import matplotlib as mplot\n",
    "import matplotlib.pyplot as plt"
   ]
  },
  {
   "cell_type": "code",
   "execution_count": null,
   "metadata": {},
   "outputs": [],
   "source": [
    "# use Matplotlib to plot a graph of sigmoid\n",
    "# Look up an online tutorial for a simple example"
   ]
  }
 ],
 "metadata": {
  "kernelspec": {
   "display_name": "Python 3",
   "language": "python",
   "name": "python3"
  },
  "language_info": {
   "codemirror_mode": {
    "name": "ipython",
    "version": 3
   },
   "file_extension": ".py",
   "mimetype": "text/x-python",
   "name": "python",
   "nbconvert_exporter": "python",
   "pygments_lexer": "ipython3",
   "version": "3.8.3"
  }
 },
 "nbformat": 4,
 "nbformat_minor": 4
}
